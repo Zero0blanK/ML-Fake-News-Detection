{
 "cells": [
  {
   "cell_type": "code",
   "execution_count": null,
   "id": "96802a9b",
   "metadata": {},
   "outputs": [
    {
     "name": "stderr",
     "output_type": "stream",
     "text": [
      "[nltk_data] Downloading package punkt to\n",
      "[nltk_data]     C:\\Users\\april\\AppData\\Roaming\\nltk_data...\n",
      "[nltk_data]   Package punkt is already up-to-date!\n",
      "[nltk_data] Downloading package wordnet to\n",
      "[nltk_data]     C:\\Users\\april\\AppData\\Roaming\\nltk_data...\n",
      "[nltk_data]   Package wordnet is already up-to-date!\n"
     ]
    }
   ],
   "source": [
    "import pandas as pd\n",
    "import numpy as np\n",
    "from sklearn.model_selection import train_test_split\n",
    "from sklearn.preprocessing import LabelEncoder\n",
    "from sklearn.naive_bayes import MultinomialNB\n",
    "from sklearn.ensemble import RandomForestClassifier\n",
    "from sklearn.svm import SVC\n",
    "from sklearn.feature_extraction.text import TfidfVectorizer\n",
    "from sklearn.metrics import (\n",
    "    confusion_matrix, classification_report, accuracy_score\n",
    ")\n",
    "import matplotlib.pyplot as plt\n",
    "import seaborn as sns\n",
    "import joblib\n",
    "import pickle\n",
    "import re\n",
    "import nltk\n",
    "from nltk.tokenize import word_tokenize\n",
    "from nltk.stem import WordNetLemmatizer\n",
    "import unicodedata\n",
    "from imblearn.over_sampling import SMOTE\n",
    "from imblearn.under_sampling import RandomUnderSampler\n",
    "from imblearn.pipeline import Pipeline as ImbPipeline\n",
    "\n",
    "# Download required NLTK data\n",
    "nltk.download('punkt')\n",
    "nltk.download('wordnet')\n",
    "nltk.download('omw-1.4')\n",
    "\n",
    "# Suppress warnings\n",
    "import warnings\n",
    "warnings.filterwarnings('ignore')"
   ]
  },
  {
   "cell_type": "markdown",
   "id": "a0b41ca9",
   "metadata": {},
   "source": [
    "## 1. Load and Preprocess Data"
   ]
  },
  {
   "cell_type": "code",
   "execution_count": 80,
   "id": "b700716c",
   "metadata": {},
   "outputs": [
    {
     "name": "stdout",
     "output_type": "stream",
     "text": [
      "\n",
      "Label distribution after binary conversion:\n",
      "label\n",
      "True     7406\n",
      "False    2834\n",
      "Name: count, dtype: int64\n",
      "Dataset shape: (10240, 15)\n"
     ]
    }
   ],
   "source": [
    "# Define column names\n",
    "columns = [\n",
    "    'filename', 'label', 'statement', 'subject', 'speaker', \n",
    "    'job_title', 'state', 'party', 'true_counts', 'false_counts',\n",
    "    'half_true_counts', 'barely_true_counts', 'pants_fire_counts', 'context'\n",
    "]\n",
    "\n",
    "# Load the data\n",
    "df = pd.read_csv('train.tsv', sep='\\t', header=None, names=columns)\n",
    "\n",
    "# Convert labels to binary (true/false) following svm.ipynb approach\n",
    "def simplify_label(label):\n",
    "    \"\"\"Convert multi-class labels to binary (true/false)\"\"\"\n",
    "    label = str(label).lower()\n",
    "    return label in ['true', 'mostly-true', 'half-true', 'barely-true']\n",
    "\n",
    "# Create binary labels\n",
    "df['label'] = df['label'].apply(simplify_label)\n",
    "\n",
    "# Create encoded labels\n",
    "label_mapping = {False: 0, True: 1}\n",
    "df['encoded_label'] = df['label'].map(label_mapping)\n",
    "\n",
    "\n",
    "print(\"\\nLabel distribution after binary conversion:\")\n",
    "df.head()\n",
    "\n",
    "print(df['label'].value_counts())\n",
    "\n",
    "print(f\"Dataset shape: {df.shape}\")"
   ]
  },
  {
   "cell_type": "code",
   "execution_count": 81,
   "id": "907bdc00",
   "metadata": {},
   "outputs": [
    {
     "name": "stdout",
     "output_type": "stream",
     "text": [
      "\n",
      "Numerical column statistics (min, max, mean, median, std dev):\n"
     ]
    },
    {
     "data": {
      "text/html": [
       "<div>\n",
       "<style scoped>\n",
       "    .dataframe tbody tr th:only-of-type {\n",
       "        vertical-align: middle;\n",
       "    }\n",
       "\n",
       "    .dataframe tbody tr th {\n",
       "        vertical-align: top;\n",
       "    }\n",
       "\n",
       "    .dataframe thead th {\n",
       "        text-align: right;\n",
       "    }\n",
       "</style>\n",
       "<table border=\"1\" class=\"dataframe\">\n",
       "  <thead>\n",
       "    <tr style=\"text-align: right;\">\n",
       "      <th></th>\n",
       "      <th>min</th>\n",
       "      <th>max</th>\n",
       "      <th>mean</th>\n",
       "      <th>median</th>\n",
       "      <th>std</th>\n",
       "    </tr>\n",
       "  </thead>\n",
       "  <tbody>\n",
       "    <tr>\n",
       "      <th>true_counts</th>\n",
       "      <td>0.0</td>\n",
       "      <td>70.0</td>\n",
       "      <td>11.533210</td>\n",
       "      <td>2.0</td>\n",
       "      <td>18.973764</td>\n",
       "    </tr>\n",
       "    <tr>\n",
       "      <th>false_counts</th>\n",
       "      <td>0.0</td>\n",
       "      <td>114.0</td>\n",
       "      <td>13.286482</td>\n",
       "      <td>2.0</td>\n",
       "      <td>24.112936</td>\n",
       "    </tr>\n",
       "    <tr>\n",
       "      <th>half_true_counts</th>\n",
       "      <td>0.0</td>\n",
       "      <td>160.0</td>\n",
       "      <td>17.133718</td>\n",
       "      <td>3.0</td>\n",
       "      <td>35.846511</td>\n",
       "    </tr>\n",
       "    <tr>\n",
       "      <th>barely_true_counts</th>\n",
       "      <td>0.0</td>\n",
       "      <td>163.0</td>\n",
       "      <td>16.434265</td>\n",
       "      <td>3.0</td>\n",
       "      <td>36.151688</td>\n",
       "    </tr>\n",
       "    <tr>\n",
       "      <th>pants_fire_counts</th>\n",
       "      <td>0.0</td>\n",
       "      <td>105.0</td>\n",
       "      <td>6.201407</td>\n",
       "      <td>1.0</td>\n",
       "      <td>16.128927</td>\n",
       "    </tr>\n",
       "    <tr>\n",
       "      <th>encoded_label</th>\n",
       "      <td>0.0</td>\n",
       "      <td>1.0</td>\n",
       "      <td>0.723383</td>\n",
       "      <td>1.0</td>\n",
       "      <td>0.447347</td>\n",
       "    </tr>\n",
       "    <tr>\n",
       "      <th>statement_length</th>\n",
       "      <td>11.0</td>\n",
       "      <td>3204.0</td>\n",
       "      <td>106.863548</td>\n",
       "      <td>99.0</td>\n",
       "      <td>59.854423</td>\n",
       "    </tr>\n",
       "  </tbody>\n",
       "</table>\n",
       "</div>"
      ],
      "text/plain": [
       "                     min     max        mean  median        std\n",
       "true_counts          0.0    70.0   11.533210     2.0  18.973764\n",
       "false_counts         0.0   114.0   13.286482     2.0  24.112936\n",
       "half_true_counts     0.0   160.0   17.133718     3.0  35.846511\n",
       "barely_true_counts   0.0   163.0   16.434265     3.0  36.151688\n",
       "pants_fire_counts    0.0   105.0    6.201407     1.0  16.128927\n",
       "encoded_label        0.0     1.0    0.723383     1.0   0.447347\n",
       "statement_length    11.0  3204.0  106.863548    99.0  59.854423"
      ]
     },
     "metadata": {},
     "output_type": "display_data"
    }
   ],
   "source": [
    "def categorize_subject(subject):\n",
    "    \"\"\"Categorize subjects into broader categories\"\"\"\n",
    "    if pd.isna(subject):\n",
    "        return 'other'\n",
    "    \n",
    "    subject = subject.lower()\n",
    "    \n",
    "    if any(word in subject for word in ['health', 'medicare', 'medicaid']):\n",
    "        return 'healthcare'\n",
    "    elif any(word in subject for word in ['economy', 'jobs', 'unemployment', 'taxes', 'budget']):\n",
    "        return 'economy'\n",
    "    elif any(word in subject for word in ['education', 'school', 'student']):\n",
    "        return 'education'\n",
    "    elif any(word in subject for word in ['immigration', 'border']):\n",
    "        return 'immigration'\n",
    "    elif any(word in subject for word in ['military', 'war', 'veteran']):\n",
    "        return 'military'\n",
    "    elif any(word in subject for word in ['environment', 'climate', 'energy']):\n",
    "        return 'environment'\n",
    "    elif any(word in subject for word in ['campaign', 'election', 'voting']):\n",
    "        return 'political_process'\n",
    "    else:\n",
    "        return 'other'\n",
    "\n",
    "# Clean and preprocess the data\n",
    "def clean_data(df):\n",
    "    # Drop rows with missing values in key columns\n",
    "    df = df.dropna(subset=['subject', 'speaker'])\n",
    "    \n",
    "    # Create derived features\n",
    "    df['statement_length'] = df['statement'].str.len()\n",
    "    df['subject_category'] = df['subject'].apply(categorize_subject)\n",
    "    \n",
    "    # Clean party column\n",
    "    df['party'] = df['party'].fillna('none')\n",
    "    df['party'] = df['party'].astype(str).str.lower().str.strip()\n",
    "    df['party'] = df['party'].replace('', 'none')\n",
    "    \n",
    "    # Fill missing values for job_title, state, and context with 'none'\n",
    "    df['job_title'] = df['job_title'].fillna('none')\n",
    "    df['state'] = df['state'].fillna('none')\n",
    "    df['context'] = df['context'].fillna('none')\n",
    "    \n",
    "    return df\n",
    "\n",
    "# Apply preprocessing\n",
    "df = clean_data(df)\n",
    "\n",
    "num_stats = df.describe().T[['min', 'max', 'mean', '50%', 'std']]\n",
    "num_stats.rename(columns={'50%': 'median'}, inplace=True)\n",
    "print(\"\\nNumerical column statistics (min, max, mean, median, std dev):\")\n",
    "display(num_stats)"
   ]
  },
  {
   "cell_type": "code",
   "execution_count": 82,
   "id": "f12ac953",
   "metadata": {},
   "outputs": [
    {
     "name": "stdout",
     "output_type": "stream",
     "text": [
      "Processing statements...\n",
      "Statement processing complete!\n",
      "Statement processing complete!\n"
     ]
    }
   ],
   "source": [
    "def clean_text(text):\n",
    "    \"\"\"Clean and preprocess text data\"\"\"\n",
    "    text = str(text).lower()\n",
    "    text = re.sub(r'[^a-zA-Z0-9\\s]', '', text)\n",
    "    text = unicodedata.normalize('NFKD', text).encode('ascii', 'ignore').decode('utf-8')\n",
    "    text = re.sub(r'\\s+', ' ', text).strip()\n",
    "    return text\n",
    "\n",
    "def tokenize_and_lemmatize(text):\n",
    "    \"\"\"Tokenize and lemmatize text\"\"\"\n",
    "    lemmatizer = WordNetLemmatizer()\n",
    "    tokens = word_tokenize(text)\n",
    "    return ' '.join(lemmatizer.lemmatize(token) for token in tokens)\n",
    "\n",
    "def preprocess_statement(statement):\n",
    "    \"\"\"Preprocess a single statement\"\"\"\n",
    "    cleaned_text = clean_text(statement)\n",
    "    return tokenize_and_lemmatize(cleaned_text)\n",
    "\n",
    "# Process all statements\n",
    "print(\"Processing statements...\")\n",
    "df['processed_statement'] = df['statement'].apply(preprocess_statement)\n",
    "print(\"Statement processing complete!\")"
   ]
  },
  {
   "cell_type": "markdown",
   "id": "7e897d57",
   "metadata": {},
   "source": [
    "## 2. Feature Engineering and Data Splitting"
   ]
  },
  {
   "cell_type": "code",
   "execution_count": 83,
   "id": "fce4a7be",
   "metadata": {},
   "outputs": [
    {
     "name": "stdout",
     "output_type": "stream",
     "text": [
      "Creating TF-IDF features...\n",
      "Original class distribution in training set:\n",
      "encoded_label\n",
      "1    0.723416\n",
      "0    0.276584\n",
      "Name: proportion, dtype: float64\n",
      "\n",
      "Balancing dataset...\n",
      "\n",
      "Balanced class distribution in training set:\n",
      "encoded_label\n",
      "0    0.5\n",
      "1    0.5\n",
      "Name: proportion, dtype: float64\n",
      "\n",
      "Training set shape before balancing: (7166, 2279)\n",
      "Training set shape after balancing: (10368, 2279)\n",
      "Testing set shape: (3072, 2279)\n",
      "\n",
      "Saving TF-IDF vectorizer...\n"
     ]
    },
    {
     "data": {
      "text/plain": [
       "['models/tfidf.joblib']"
      ]
     },
     "execution_count": 83,
     "metadata": {},
     "output_type": "execute_result"
    }
   ],
   "source": [
    "# Create TF-IDF vectorizer\n",
    "print(\"Creating TF-IDF features...\")\n",
    "tfidf = TfidfVectorizer(\n",
    "    max_features=5000,\n",
    "    min_df=5,\n",
    "    max_df=0.7,\n",
    "    stop_words='english'\n",
    ")\n",
    "\n",
    "# Split data\n",
    "X = df['processed_statement']\n",
    "y = df['encoded_label']\n",
    "\n",
    "# Split into train and test sets\n",
    "X_train, X_test, y_train, y_test = train_test_split(\n",
    "    X, y, test_size=0.3, random_state=42, stratify=y\n",
    ")\n",
    "\n",
    "# Create TF-IDF features\n",
    "X_train_tfidf = tfidf.fit_transform(X_train)\n",
    "X_test_tfidf = tfidf.transform(X_test)\n",
    "\n",
    "print(\"Original class distribution in training set:\")\n",
    "print(pd.Series(y_train).value_counts(normalize=True))\n",
    "\n",
    "# Create a balancing pipeline\n",
    "print(\"\\nBalancing dataset...\")\n",
    "# First oversample the minority class with SMOTE\n",
    "# Then undersample the majority class to create a perfectly balanced dataset\n",
    "balancing_pipeline = ImbPipeline([\n",
    "    ('smote', SMOTE(random_state=42)),\n",
    "    ('random_under', RandomUnderSampler(random_state=42))\n",
    "])\n",
    "\n",
    "# Apply balancing to TF-IDF features\n",
    "X_train_balanced, y_train_balanced = balancing_pipeline.fit_resample(X_train_tfidf, y_train)\n",
    "\n",
    "print(\"\\nBalanced class distribution in training set:\")\n",
    "print(pd.Series(y_train_balanced).value_counts(normalize=True))\n",
    "\n",
    "print(f\"\\nTraining set shape before balancing: {X_train_tfidf.shape}\")\n",
    "print(f\"Training set shape after balancing: {X_train_balanced.shape}\")\n",
    "print(f\"Testing set shape: {X_test_tfidf.shape}\")\n",
    "\n",
    "# Save the TF-IDF vectorizer for later use\n",
    "print(\"\\nSaving TF-IDF vectorizer...\")\n",
    "joblib.dump(tfidf, 'models/tfidf.joblib')"
   ]
  },
  {
   "cell_type": "markdown",
   "id": "f65527a3",
   "metadata": {},
   "source": [
    "## 3. Model Training and Evaluation"
   ]
  },
  {
   "cell_type": "code",
   "execution_count": null,
   "id": "0dc8234f",
   "metadata": {},
   "outputs": [
    {
     "name": "stdout",
     "output_type": "stream",
     "text": [
      "Training Support Vector Machine...\n",
      "\n",
      "Training Naive Bayes...\n",
      "\n",
      "Training Random Forest...\n",
      "\n",
      "Training Naive Bayes...\n",
      "\n",
      "Training Random Forest...\n"
     ]
    }
   ],
   "source": [
    "# Train and evaluate models with balanced dataset\n",
    "models = {}\n",
    "predictions = {}\n",
    "model_scores = {}\n",
    "\n",
    "# 1. Support Vector Machine\n",
    "print(\"Training Support Vector Machine...\")\n",
    "svm = SVC(\n",
    "    probability=True,\n",
    "    random_state=42,\n",
    "    kernel='linear', \n",
    "    C=1.0 \n",
    ")\n",
    "svm.fit(X_train_balanced, y_train_balanced)\n",
    "svm_pred = svm.predict(X_test_tfidf)\n",
    "\n",
    "models['SVM'] = svm\n",
    "predictions['SVM'] = svm_pred\n",
    "model_scores['SVM'] = {'probabilities': svm.predict_proba(X_test_tfidf)}\n",
    "\n",
    "# 2. Naive Bayes\n",
    "print(\"\\nTraining Naive Bayes...\")\n",
    "nb = MultinomialNB()\n",
    "nb.fit(X_train_balanced, y_train_balanced)\n",
    "nb_pred = nb.predict(X_test_tfidf)\n",
    "\n",
    "models['Naive Bayes'] = nb\n",
    "predictions['Naive Bayes'] = nb_pred\n",
    "model_scores['Naive Bayes'] = {'probabilities': nb.predict_proba(X_test_tfidf)}\n",
    "\n",
    "# 3. Random Forest\n",
    "print(\"\\nTraining Random Forest...\")\n",
    "rf = RandomForestClassifier(\n",
    "    n_estimators=200,\n",
    "    max_depth=20, \n",
    "    min_samples_split=10,\n",
    "    min_samples_leaf=4,\n",
    "    random_state=42\n",
    ")\n",
    "rf.fit(X_train_balanced, y_train_balanced)\n",
    "rf_pred = rf.predict(X_test_tfidf)\n",
    "\n",
    "models['Random Forest'] = rf\n",
    "predictions['Random Forest'] = rf_pred\n",
    "model_scores['Random Forest'] = {'probabilities': rf.predict_proba(X_test_tfidf)}"
   ]
  },
  {
   "cell_type": "code",
   "execution_count": 85,
   "id": "f931381b",
   "metadata": {},
   "outputs": [
    {
     "name": "stdout",
     "output_type": "stream",
     "text": [
      "Model Evaluation Results:\n",
      "\n",
      "\n",
      "SVM:\n",
      "Accuracy: 0.601\n",
      "\n",
      "Classification Report:\n",
      "              precision    recall  f1-score   support\n",
      "\n",
      "       False       0.34      0.49      0.40       850\n",
      "        True       0.77      0.64      0.70      2222\n",
      "\n",
      "    accuracy                           0.60      3072\n",
      "   macro avg       0.56      0.57      0.55      3072\n",
      "weighted avg       0.65      0.60      0.62      3072\n",
      "\n",
      "\n",
      "Naive Bayes:\n",
      "Accuracy: 0.601\n",
      "\n",
      "Classification Report:\n",
      "              precision    recall  f1-score   support\n",
      "\n",
      "       False       0.34      0.49      0.40       850\n",
      "        True       0.77      0.64      0.70      2222\n",
      "\n",
      "    accuracy                           0.60      3072\n",
      "   macro avg       0.56      0.57      0.55      3072\n",
      "weighted avg       0.65      0.60      0.62      3072\n",
      "\n",
      "\n",
      "Random Forest:\n",
      "Accuracy: 0.604\n",
      "\n",
      "Classification Report:\n",
      "              precision    recall  f1-score   support\n",
      "\n",
      "       False       0.35      0.48      0.40       850\n",
      "        True       0.77      0.65      0.70      2222\n",
      "\n",
      "    accuracy                           0.60      3072\n",
      "   macro avg       0.56      0.57      0.55      3072\n",
      "weighted avg       0.65      0.60      0.62      3072\n",
      "\n"
     ]
    }
   ],
   "source": [
    "# Evaluate models\n",
    "print(\"Model Evaluation Results:\\n\")\n",
    "\n",
    "for model_name, pred in predictions.items():\n",
    "    accuracy = accuracy_score(y_test, pred)\n",
    "    print(f\"\\n{model_name}:\")\n",
    "    print(f\"Accuracy: {accuracy:.3f}\")\n",
    "    \n",
    "    # Print classification report\n",
    "    print(\"\\nClassification Report:\")\n",
    "    print(classification_report(y_test, pred, \n",
    "                              target_names=['False', 'True']))"
   ]
  },
  {
   "cell_type": "markdown",
   "id": "791df6f3",
   "metadata": {},
   "source": [
    "## 4. Visualizations"
   ]
  },
  {
   "cell_type": "code",
   "execution_count": 86,
   "id": "6a174334",
   "metadata": {},
   "outputs": [
    {
     "data": {
      "image/png": "[encoded data removed]",
      "text/plain": [
       "<Figure size 1500x1200 with 7 Axes>"
      ]
     },
     "metadata": {},
     "output_type": "display_data"
    }
   ],
   "source": [
    "# Set up the visualization style\n",
    "plt.style.use('seaborn-v0_8')\n",
    "fig, axes = plt.subplots(2, 2, figsize=(15, 12))\n",
    "\n",
    "# 1. Confusion Matrices\n",
    "for idx, (model_name, pred) in enumerate(predictions.items()):\n",
    "    if idx < 3:  # We have 3 models\n",
    "        plt.subplot(2, 2, idx+1)\n",
    "        cm = confusion_matrix(y_test, pred)\n",
    "        sns.heatmap(cm, annot=True, fmt='d', cmap='Blues',\n",
    "                   xticklabels=['False', 'True'],\n",
    "                   yticklabels=['False', 'True'])\n",
    "        plt.title(f'{model_name} Confusion Matrix')\n",
    "        plt.xlabel('Predicted')\n",
    "        plt.ylabel('True')\n",
    "        plt.xticks(rotation=45)\n",
    "\n",
    "# 2. Model Comparison (Accuracy)\n",
    "accuracies = [accuracy_score(y_test, pred) for pred in predictions.values()]\n",
    "plt.subplot(2, 2, 4)\n",
    "plt.bar(predictions.keys(), accuracies)\n",
    "plt.title('Model Accuracy Comparison')\n",
    "plt.xlabel('Model')\n",
    "plt.ylabel('Accuracy')\n",
    "plt.xticks(rotation=45)\n",
    "\n",
    "plt.tight_layout()\n",
    "plt.show()"
   ]
  },
  {
   "cell_type": "markdown",
   "id": "edc68181",
   "metadata": {},
   "source": [
    "## 5. Save Models"
   ]
  },
  {
   "cell_type": "code",
   "execution_count": 88,
   "id": "7f5f8b07",
   "metadata": {},
   "outputs": [
    {
     "name": "stdout",
     "output_type": "stream",
     "text": [
      "Saved SVM to models/svm.pkl\n",
      "Saved Naive Bayes to models/naive_bayes.pkl\n",
      "Saved Random Forest to models/random_forest.pkl\n"
     ]
    }
   ],
   "source": [
    "# Create models directory if it doesn't exist\n",
    "import os\n",
    "os.makedirs('models', exist_ok=True)\n",
    "\n",
    "# Save all models\n",
    "for model_name, model in models.items():\n",
    "    filename = f'models/{model_name.lower().replace(\" \", \"_\")}.pkl'\n",
    "    with open(filename, 'wb') as f:\n",
    "        pickle.dump(model, f)\n",
    "    print(f\"Saved {model_name} to {filename}\")"
   ]
  }
 ],
 "metadata": {
  "kernelspec": {
   "display_name": "Python 3",
   "language": "python",
   "name": "python3"
  },
  "language_info": {
   "codemirror_mode": {
    "name": "ipython",
    "version": 3
   },
   "file_extension": ".py",
   "mimetype": "text/x-python",
   "name": "python",
   "nbconvert_exporter": "python",
   "pygments_lexer": "ipython3",
   "version": "3.13.7"
  }
 },
 "nbformat": 4,
 "nbformat_minor": 5
}
